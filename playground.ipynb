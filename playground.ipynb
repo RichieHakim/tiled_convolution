{
 "cells": [
  {
   "cell_type": "code",
   "execution_count": 1,
   "id": "2701ce13",
   "metadata": {},
   "outputs": [],
   "source": [
    "%load_ext autoreload\n",
    "%autoreload 2\n",
    "import tiled_convolution as tc"
   ]
  },
  {
   "cell_type": "code",
   "execution_count": 2,
   "id": "019f0128",
   "metadata": {},
   "outputs": [],
   "source": [
    "import numpy as np\n",
    "import torch"
   ]
  },
  {
   "cell_type": "code",
   "execution_count": 3,
   "id": "46d8e4e4",
   "metadata": {},
   "outputs": [],
   "source": [
    "size_input = (21, 24)\n",
    "size_kernel = (3, 4)\n",
    "stride = (1, 1)\n",
    "dilation = (1, 1)\n",
    "\n",
    "# padding = (0, 6)\n",
    "padding = 'same'"
   ]
  },
  {
   "cell_type": "code",
   "execution_count": 4,
   "id": "efdac8c0",
   "metadata": {},
   "outputs": [],
   "source": [
    "image = torch.rand(size=size_input, dtype=torch.float32)\n",
    "kernel = torch.rand(size=size_kernel, dtype=torch.float32)"
   ]
  },
  {
   "cell_type": "code",
   "execution_count": 5,
   "id": "627639c5",
   "metadata": {},
   "outputs": [
    {
     "data": {
      "text/plain": [
       "(1, 1, 1, 2)"
      ]
     },
     "execution_count": 5,
     "metadata": {},
     "output_type": "execute_result"
    }
   ],
   "source": [
    "padding_val = tc.compute_padding_amount(\n",
    "    size_input=size_input,\n",
    "    size_kernel=size_kernel,\n",
    "    stride=stride,\n",
    "    dilation=dilation,\n",
    "    padding=padding,\n",
    ")\n",
    "\n",
    "padding_val"
   ]
  },
  {
   "cell_type": "code",
   "execution_count": 6,
   "id": "4e81f714",
   "metadata": {},
   "outputs": [
    {
     "data": {
      "text/plain": [
       "(21, 24)"
      ]
     },
     "execution_count": 6,
     "metadata": {},
     "output_type": "execute_result"
    }
   ],
   "source": [
    "size_output = tc.conv2d_output_size(\n",
    "    size_input=size_input,\n",
    "    size_kernel=size_kernel,\n",
    "    padding=padding_val,\n",
    "    stride=stride,\n",
    "    dilation=dilation,\n",
    ")\n",
    "size_output"
   ]
  },
  {
   "cell_type": "code",
   "execution_count": 7,
   "id": "04970936",
   "metadata": {},
   "outputs": [
    {
     "data": {
      "text/plain": [
       "(0, 20, 0, 23)"
      ]
     },
     "execution_count": 7,
     "metadata": {},
     "output_type": "execute_result"
    }
   ],
   "source": [
    "idx_out_top, idx_out_bottom, idx_out_left, idx_out_right = 0, size_output[0] - 1, 0, size_output[1] - 1\n",
    "idx_out_top, idx_out_bottom, idx_out_left, idx_out_right"
   ]
  },
  {
   "cell_type": "code",
   "execution_count": 8,
   "id": "7d354ae0",
   "metadata": {},
   "outputs": [
    {
     "data": {
      "text/plain": [
       "(-1, -1)"
      ]
     },
     "execution_count": 8,
     "metadata": {},
     "output_type": "execute_result"
    }
   ],
   "source": [
    "idx_top, _, idx_left, _ = tc.get_receptive_field_indices(\n",
    "    indices=(idx_out_top, idx_out_left),\n",
    "    padding=padding_val,\n",
    "    size_kernel=size_kernel,\n",
    "    stride=stride,\n",
    "    dilation=dilation,\n",
    ")\n",
    "idx_top, idx_left"
   ]
  },
  {
   "cell_type": "code",
   "execution_count": 9,
   "id": "fe3eba7a",
   "metadata": {},
   "outputs": [
    {
     "data": {
      "text/plain": [
       "(21, 25)"
      ]
     },
     "execution_count": 9,
     "metadata": {},
     "output_type": "execute_result"
    }
   ],
   "source": [
    "_, idx_bottom, _, idx_right = tc.get_receptive_field_indices(\n",
    "    indices=(idx_out_bottom, idx_out_right),\n",
    "    padding=padding_val,\n",
    "    size_kernel=size_kernel,\n",
    "    stride=stride,\n",
    "    dilation=dilation,\n",
    ")\n",
    "idx_bottom, idx_right"
   ]
  },
  {
   "cell_type": "code",
   "execution_count": 10,
   "id": "10fe958e",
   "metadata": {},
   "outputs": [
    {
     "data": {
      "text/plain": [
       "(1, 1, 1, 2)"
      ]
     },
     "execution_count": 10,
     "metadata": {},
     "output_type": "execute_result"
    }
   ],
   "source": [
    "padding_for_tile = tc.indices_to_padding(\n",
    "    indices=(idx_top, idx_bottom, idx_left, idx_right),\n",
    "    size_input_full=size_input,\n",
    ")\n",
    "padding_for_tile"
   ]
  },
  {
   "cell_type": "code",
   "execution_count": 11,
   "id": "257b65c2",
   "metadata": {},
   "outputs": [
    {
     "data": {
      "text/plain": [
       "torch.Size([23, 27])"
      ]
     },
     "execution_count": 11,
     "metadata": {},
     "output_type": "execute_result"
    }
   ],
   "source": [
    "tile_padded = tc.pad_tile(\n",
    "    tile=image,\n",
    "    padding=padding_for_tile,\n",
    ")\n",
    "tile_padded.shape"
   ]
  },
  {
   "cell_type": "code",
   "execution_count": 12,
   "id": "768c7ae2",
   "metadata": {},
   "outputs": [
    {
     "data": {
      "text/plain": [
       "torch.Size([1, 1, 21, 24])"
      ]
     },
     "execution_count": 12,
     "metadata": {},
     "output_type": "execute_result"
    }
   ],
   "source": [
    "out_custom = torch.nn.functional.conv2d(\n",
    "    input=tile_padded[None, None, :, :],\n",
    "    weight=kernel[None, None, :, :],\n",
    "    stride=stride,\n",
    "    padding='valid',\n",
    "    dilation=dilation,\n",
    ")\n",
    "out_custom.shape"
   ]
  },
  {
   "cell_type": "code",
   "execution_count": 13,
   "id": "8fdcc876",
   "metadata": {},
   "outputs": [
    {
     "name": "stderr",
     "output_type": "stream",
     "text": [
      "/tmp/ipykernel_1134879/2480320012.py:1: UserWarning: Using padding='same' with even kernel lengths and odd dilation may require a zero-padded copy of the input be created (Triggered internally at ../aten/src/ATen/native/Convolution.cpp:1036.)\n",
      "  out_torch = torch.nn.functional.conv2d(\n"
     ]
    },
    {
     "data": {
      "text/plain": [
       "torch.Size([1, 1, 21, 24])"
      ]
     },
     "execution_count": 13,
     "metadata": {},
     "output_type": "execute_result"
    }
   ],
   "source": [
    "out_torch = torch.nn.functional.conv2d(\n",
    "    input=image[None, None, :, :],\n",
    "    weight=kernel[None, None, :, :],\n",
    "    stride=stride,\n",
    "    padding=padding,\n",
    "    dilation=dilation,\n",
    ")\n",
    "out_torch.shape"
   ]
  },
  {
   "cell_type": "code",
   "execution_count": 14,
   "id": "f03da214",
   "metadata": {},
   "outputs": [
    {
     "data": {
      "text/plain": [
       "tensor([[[[1.1680, 1.4680, 2.0761, 1.9334, 2.7274, 2.5891, 1.9201, 1.5034,\n",
       "           1.1677, 1.3519, 2.1082, 2.1855, 2.0022, 2.4742, 2.0512, 2.4671,\n",
       "           3.1116, 2.4050, 2.2750, 2.4208, 2.2453, 2.8572, 1.9628, 1.5523],\n",
       "          [2.1124, 2.5579, 2.9993, 2.7260, 3.6293, 3.5731, 3.2433, 3.5011,\n",
       "           2.2640, 1.9230, 2.6361, 3.2479, 3.7682, 3.1345, 2.7856, 3.0936,\n",
       "           3.5349, 2.8015, 3.3131, 2.7763, 2.5641, 3.4692, 2.3083, 2.2438],\n",
       "          [2.5488, 3.1607, 3.0132, 3.0381, 3.4410, 3.6903, 3.9633, 3.5094,\n",
       "           2.8501, 2.6991, 2.6489, 3.5937, 3.1688, 3.0379, 2.6715, 2.9625,\n",
       "           2.9373, 2.6916, 2.8819, 2.3220, 2.5514, 2.6305, 1.8973, 1.8253],\n",
       "          [3.1550, 3.1235, 3.7999, 2.9618, 3.2402, 3.1960, 3.3345, 3.8692,\n",
       "           2.9735, 3.3827, 2.7628, 2.8919, 2.8341, 3.3131, 2.7631, 2.2389,\n",
       "           2.7483, 2.8846, 2.4299, 2.5873, 2.8139, 2.3843, 1.8999, 1.8021],\n",
       "          [2.6745, 3.4760, 3.7582, 3.0131, 2.3905, 3.1122, 3.4268, 3.9708,\n",
       "           3.5823, 3.1361, 2.6464, 2.8639, 2.2676, 2.2516, 2.0590, 2.8246,\n",
       "           2.7966, 2.6551, 2.6785, 2.1827, 3.1262, 2.1299, 2.3986, 1.1453],\n",
       "          [3.4251, 3.5630, 3.9071, 2.7487, 2.7640, 2.0465, 2.6007, 2.8868,\n",
       "           2.8972, 3.4483, 2.5085, 2.7861, 2.2399, 2.2793, 2.6094, 3.8209,\n",
       "           3.1691, 2.8285, 3.1185, 2.9874, 3.1579, 2.7763, 2.2744, 1.1828],\n",
       "          [3.1618, 3.3478, 2.7319, 3.1665, 3.3535, 2.9368, 2.5895, 2.5964,\n",
       "           2.5401, 2.1123, 2.1463, 1.9798, 1.5058, 2.0976, 2.8706, 3.4316,\n",
       "           3.9033, 3.6194, 3.6206, 2.7647, 3.8042, 2.8909, 2.4739, 1.2356],\n",
       "          [2.6386, 2.8313, 2.4273, 3.0864, 3.2764, 3.1718, 2.5627, 2.8492,\n",
       "           2.6819, 1.8974, 1.9651, 2.1746, 1.6740, 2.5714, 3.0103, 4.1581,\n",
       "           4.2993, 3.4976, 3.5768, 3.5448, 3.8876, 3.8101, 2.3665, 1.5931],\n",
       "          [2.0533, 2.3463, 2.4671, 2.8542, 3.1990, 3.0865, 3.4481, 2.9421,\n",
       "           2.7593, 3.0013, 2.3532, 2.2679, 1.8059, 2.4676, 2.4996, 3.5661,\n",
       "           3.5155, 3.6742, 3.8618, 3.2072, 3.3087, 3.1353, 2.3588, 1.7951],\n",
       "          [1.5912, 2.0081, 2.7059, 3.3982, 3.3569, 3.1332, 2.5612, 2.2244,\n",
       "           2.7168, 3.3396, 3.1825, 2.3942, 2.1555, 2.2392, 2.3688, 2.8373,\n",
       "           3.1190, 2.8452, 3.4759, 3.0517, 3.7107, 3.4886, 2.2977, 1.9683],\n",
       "          [2.5163, 2.9676, 3.1085, 3.5048, 3.4635, 3.2439, 3.3199, 3.2580,\n",
       "           3.6781, 3.5089, 3.6001, 3.3619, 2.8910, 2.5231, 2.6752, 2.2609,\n",
       "           2.4700, 2.6137, 2.3860, 3.6608, 3.2541, 2.7628, 2.0432, 1.3431],\n",
       "          [2.0246, 2.4570, 3.1232, 2.9283, 3.7261, 3.3270, 2.8789, 3.0184,\n",
       "           3.1397, 3.3451, 4.1196, 3.7798, 3.5807, 3.0135, 3.1617, 2.7865,\n",
       "           3.2434, 2.6191, 2.8771, 3.0893, 3.4542, 3.7998, 2.6349, 1.4014],\n",
       "          [2.4667, 2.9535, 3.4088, 3.9247, 3.5485, 2.8281, 2.5156, 3.1483,\n",
       "           3.3770, 3.8539, 3.4708, 3.9998, 3.7696, 3.8498, 3.6372, 3.2019,\n",
       "           3.4615, 2.8771, 3.0815, 3.1444, 2.7354, 3.5048, 2.6814, 1.6621],\n",
       "          [3.0335, 3.0803, 3.5898, 3.8545, 3.4997, 3.3283, 2.1814, 2.2321,\n",
       "           2.4862, 2.7348, 2.8599, 3.2432, 3.0318, 3.6408, 3.7460, 3.8986,\n",
       "           3.2399, 2.7230, 3.5114, 2.3327, 2.3078, 2.7200, 2.5364, 1.8229],\n",
       "          [3.4137, 3.3439, 3.3951, 2.9712, 2.6304, 3.1379, 2.0225, 1.9043,\n",
       "           2.6063, 3.0334, 3.6140, 2.9052, 2.6696, 3.6261, 3.9460, 4.4299,\n",
       "           3.6624, 2.7606, 3.0374, 1.7600, 2.6198, 2.6795, 2.1673, 1.3813],\n",
       "          [3.1216, 2.6368, 3.6692, 2.4965, 2.5029, 2.7092, 1.8977, 2.3535,\n",
       "           2.4873, 2.3413, 3.0210, 2.6019, 2.4129, 3.2718, 3.1593, 4.2882,\n",
       "           3.5686, 3.2114, 3.0210, 2.4018, 3.5363, 3.1538, 2.4786, 1.9403],\n",
       "          [2.3491, 2.6147, 3.8857, 2.9033, 3.3116, 2.5674, 2.2091, 2.3678,\n",
       "           3.1224, 2.7789, 3.5650, 2.6772, 2.8108, 2.8687, 3.2694, 4.0978,\n",
       "           3.9012, 3.2044, 3.4985, 2.9878, 3.9717, 4.5048, 3.5740, 2.5970],\n",
       "          [2.4820, 3.0801, 4.1402, 3.4335, 4.1246, 2.6170, 2.8479, 2.2717,\n",
       "           3.7301, 3.7686, 4.0924, 3.0676, 2.9370, 2.9213, 3.3077, 3.1273,\n",
       "           3.0299, 2.5721, 2.5817, 2.2752, 3.1655, 3.5661, 2.7560, 1.9821],\n",
       "          [2.7447, 3.2076, 3.8295, 3.6531, 4.0612, 2.2923, 3.3840, 2.2489,\n",
       "           3.5502, 3.7690, 4.4670, 3.3028, 4.0035, 2.7365, 3.6179, 2.9614,\n",
       "           3.8954, 2.8701, 2.5136, 1.9113, 2.3040, 2.7753, 1.8744, 1.6545],\n",
       "          [2.9098, 3.1918, 3.4846, 3.4571, 3.1900, 2.5196, 3.1222, 2.2512,\n",
       "           3.8591, 3.4720, 3.9566, 3.8409, 3.5902, 3.1320, 3.7653, 2.6461,\n",
       "           3.3473, 2.0052, 1.9498, 1.6808, 1.8946, 2.3974, 1.8707, 1.6387],\n",
       "          [1.9327, 2.5387, 2.0367, 1.6797, 1.7967, 1.8638, 2.1521, 1.3658,\n",
       "           2.2912, 1.8975, 2.2295, 2.3288, 2.2984, 1.5880, 2.3330, 1.8737,\n",
       "           2.4516, 1.4025, 1.3491, 1.2169, 1.1196, 1.6877, 1.6521, 1.6874]]]])"
      ]
     },
     "execution_count": 14,
     "metadata": {},
     "output_type": "execute_result"
    }
   ],
   "source": [
    "out_custom"
   ]
  },
  {
   "cell_type": "code",
   "execution_count": 15,
   "id": "6517f0b0",
   "metadata": {},
   "outputs": [
    {
     "data": {
      "text/plain": [
       "tensor([[[[1.1680, 1.4680, 2.0761, 1.9334, 2.7274, 2.5891, 1.9201, 1.5034,\n",
       "           1.1677, 1.3519, 2.1082, 2.1855, 2.0022, 2.4742, 2.0512, 2.4671,\n",
       "           3.1116, 2.4050, 2.2750, 2.4208, 2.2453, 2.8572, 1.9628, 1.5523],\n",
       "          [2.1124, 2.5579, 2.9993, 2.7260, 3.6293, 3.5731, 3.2433, 3.5011,\n",
       "           2.2640, 1.9230, 2.6361, 3.2479, 3.7682, 3.1345, 2.7856, 3.0936,\n",
       "           3.5349, 2.8015, 3.3131, 2.7763, 2.5641, 3.4692, 2.3083, 2.2438],\n",
       "          [2.5488, 3.1607, 3.0132, 3.0381, 3.4410, 3.6903, 3.9633, 3.5094,\n",
       "           2.8501, 2.6991, 2.6489, 3.5937, 3.1688, 3.0379, 2.6715, 2.9625,\n",
       "           2.9373, 2.6916, 2.8819, 2.3220, 2.5514, 2.6305, 1.8973, 1.8253],\n",
       "          [3.1550, 3.1235, 3.7999, 2.9618, 3.2402, 3.1960, 3.3345, 3.8692,\n",
       "           2.9735, 3.3827, 2.7628, 2.8919, 2.8341, 3.3131, 2.7631, 2.2389,\n",
       "           2.7483, 2.8846, 2.4299, 2.5873, 2.8139, 2.3843, 1.8999, 1.8021],\n",
       "          [2.6745, 3.4760, 3.7582, 3.0131, 2.3905, 3.1122, 3.4268, 3.9708,\n",
       "           3.5823, 3.1361, 2.6464, 2.8639, 2.2676, 2.2516, 2.0590, 2.8246,\n",
       "           2.7966, 2.6551, 2.6785, 2.1827, 3.1262, 2.1299, 2.3986, 1.1453],\n",
       "          [3.4251, 3.5630, 3.9071, 2.7487, 2.7640, 2.0465, 2.6007, 2.8868,\n",
       "           2.8972, 3.4483, 2.5085, 2.7861, 2.2399, 2.2793, 2.6094, 3.8209,\n",
       "           3.1691, 2.8285, 3.1185, 2.9874, 3.1579, 2.7763, 2.2744, 1.1828],\n",
       "          [3.1618, 3.3478, 2.7319, 3.1665, 3.3535, 2.9368, 2.5895, 2.5964,\n",
       "           2.5401, 2.1123, 2.1463, 1.9798, 1.5058, 2.0976, 2.8706, 3.4316,\n",
       "           3.9033, 3.6194, 3.6206, 2.7647, 3.8042, 2.8909, 2.4739, 1.2356],\n",
       "          [2.6386, 2.8313, 2.4273, 3.0864, 3.2764, 3.1718, 2.5627, 2.8492,\n",
       "           2.6819, 1.8974, 1.9651, 2.1746, 1.6740, 2.5714, 3.0103, 4.1581,\n",
       "           4.2993, 3.4976, 3.5768, 3.5448, 3.8876, 3.8101, 2.3665, 1.5931],\n",
       "          [2.0533, 2.3463, 2.4671, 2.8542, 3.1990, 3.0865, 3.4481, 2.9421,\n",
       "           2.7593, 3.0013, 2.3532, 2.2679, 1.8059, 2.4676, 2.4996, 3.5661,\n",
       "           3.5155, 3.6742, 3.8618, 3.2072, 3.3087, 3.1353, 2.3588, 1.7951],\n",
       "          [1.5912, 2.0081, 2.7059, 3.3982, 3.3569, 3.1332, 2.5612, 2.2244,\n",
       "           2.7168, 3.3396, 3.1825, 2.3942, 2.1555, 2.2392, 2.3688, 2.8373,\n",
       "           3.1190, 2.8452, 3.4759, 3.0517, 3.7107, 3.4886, 2.2977, 1.9683],\n",
       "          [2.5163, 2.9676, 3.1085, 3.5048, 3.4635, 3.2439, 3.3199, 3.2580,\n",
       "           3.6781, 3.5089, 3.6001, 3.3619, 2.8910, 2.5231, 2.6752, 2.2609,\n",
       "           2.4700, 2.6137, 2.3860, 3.6608, 3.2541, 2.7628, 2.0432, 1.3431],\n",
       "          [2.0246, 2.4570, 3.1232, 2.9283, 3.7261, 3.3270, 2.8789, 3.0184,\n",
       "           3.1397, 3.3451, 4.1196, 3.7798, 3.5807, 3.0135, 3.1617, 2.7865,\n",
       "           3.2434, 2.6191, 2.8771, 3.0893, 3.4542, 3.7998, 2.6349, 1.4014],\n",
       "          [2.4667, 2.9535, 3.4088, 3.9247, 3.5485, 2.8281, 2.5156, 3.1483,\n",
       "           3.3770, 3.8539, 3.4708, 3.9998, 3.7696, 3.8498, 3.6372, 3.2019,\n",
       "           3.4615, 2.8771, 3.0815, 3.1444, 2.7354, 3.5048, 2.6814, 1.6621],\n",
       "          [3.0335, 3.0803, 3.5898, 3.8545, 3.4997, 3.3283, 2.1814, 2.2321,\n",
       "           2.4862, 2.7348, 2.8599, 3.2432, 3.0318, 3.6408, 3.7460, 3.8986,\n",
       "           3.2399, 2.7230, 3.5114, 2.3327, 2.3078, 2.7200, 2.5364, 1.8229],\n",
       "          [3.4137, 3.3439, 3.3951, 2.9712, 2.6304, 3.1379, 2.0225, 1.9043,\n",
       "           2.6063, 3.0334, 3.6140, 2.9052, 2.6696, 3.6261, 3.9460, 4.4299,\n",
       "           3.6624, 2.7606, 3.0374, 1.7600, 2.6198, 2.6795, 2.1673, 1.3813],\n",
       "          [3.1216, 2.6368, 3.6692, 2.4965, 2.5029, 2.7092, 1.8977, 2.3535,\n",
       "           2.4873, 2.3413, 3.0210, 2.6019, 2.4129, 3.2718, 3.1593, 4.2882,\n",
       "           3.5686, 3.2114, 3.0210, 2.4018, 3.5363, 3.1538, 2.4786, 1.9403],\n",
       "          [2.3491, 2.6147, 3.8857, 2.9033, 3.3116, 2.5674, 2.2091, 2.3678,\n",
       "           3.1224, 2.7789, 3.5650, 2.6772, 2.8108, 2.8687, 3.2694, 4.0978,\n",
       "           3.9012, 3.2044, 3.4985, 2.9878, 3.9717, 4.5048, 3.5740, 2.5970],\n",
       "          [2.4820, 3.0801, 4.1402, 3.4335, 4.1246, 2.6170, 2.8479, 2.2717,\n",
       "           3.7301, 3.7686, 4.0924, 3.0676, 2.9370, 2.9213, 3.3077, 3.1273,\n",
       "           3.0299, 2.5721, 2.5817, 2.2752, 3.1655, 3.5661, 2.7560, 1.9821],\n",
       "          [2.7447, 3.2076, 3.8295, 3.6531, 4.0612, 2.2923, 3.3840, 2.2489,\n",
       "           3.5502, 3.7690, 4.4670, 3.3028, 4.0035, 2.7365, 3.6179, 2.9614,\n",
       "           3.8954, 2.8701, 2.5136, 1.9113, 2.3040, 2.7753, 1.8744, 1.6545],\n",
       "          [2.9098, 3.1918, 3.4846, 3.4571, 3.1900, 2.5196, 3.1222, 2.2512,\n",
       "           3.8591, 3.4720, 3.9566, 3.8409, 3.5902, 3.1320, 3.7653, 2.6461,\n",
       "           3.3473, 2.0052, 1.9498, 1.6808, 1.8946, 2.3974, 1.8707, 1.6387],\n",
       "          [1.9327, 2.5387, 2.0367, 1.6797, 1.7967, 1.8638, 2.1521, 1.3658,\n",
       "           2.2912, 1.8975, 2.2295, 2.3288, 2.2984, 1.5880, 2.3330, 1.8737,\n",
       "           2.4516, 1.4025, 1.3491, 1.2169, 1.1196, 1.6877, 1.6521, 1.6874]]]])"
      ]
     },
     "execution_count": 15,
     "metadata": {},
     "output_type": "execute_result"
    }
   ],
   "source": [
    "out_torch"
   ]
  },
  {
   "cell_type": "code",
   "execution_count": 16,
   "id": "b8274148",
   "metadata": {},
   "outputs": [
    {
     "data": {
      "text/plain": [
       "True"
      ]
     },
     "execution_count": 16,
     "metadata": {},
     "output_type": "execute_result"
    }
   ],
   "source": [
    "torch.allclose(\n",
    "    out_custom,\n",
    "    out_torch,\n",
    ")"
   ]
  },
  {
   "cell_type": "code",
   "execution_count": null,
   "id": "7a219ad1",
   "metadata": {},
   "outputs": [],
   "source": []
  },
  {
   "cell_type": "code",
   "execution_count": null,
   "id": "27754330",
   "metadata": {},
   "outputs": [],
   "source": []
  },
  {
   "cell_type": "code",
   "execution_count": 17,
   "id": "f72a68d9",
   "metadata": {},
   "outputs": [],
   "source": [
    "size_input = (41, 34)\n",
    "size_kernel = (3, 4)\n",
    "stride = (1, 1)\n",
    "dilation = (1, 1)\n",
    "\n",
    "# padding = (0, 6)\n",
    "padding = 'same'"
   ]
  },
  {
   "cell_type": "code",
   "execution_count": 18,
   "id": "02c4a285",
   "metadata": {},
   "outputs": [],
   "source": [
    "image = torch.rand(size=size_input, dtype=torch.float32)\n",
    "kernel = torch.rand(size=size_kernel, dtype=torch.float32)"
   ]
  },
  {
   "cell_type": "code",
   "execution_count": 19,
   "id": "fe982437",
   "metadata": {},
   "outputs": [],
   "source": [
    "## try tiling with a small tile size\n",
    "\n",
    "size_tile = (9, 15)"
   ]
  },
  {
   "cell_type": "code",
   "execution_count": 20,
   "id": "ad8c9609",
   "metadata": {},
   "outputs": [
    {
     "name": "stdout",
     "output_type": "stream",
     "text": [
      "kernel shape: torch.Size([3, 4])\n",
      "padding: same\n",
      "padding_val: (1, 1, 1, 2)\n",
      "shape_out: (41, 34)\n",
      "Tile: 0 / 15\n",
      "idx_out: (0, 8, 0, 14)\n",
      "idx_in: (-1, 9, -1, 16)\n",
      "idx_in_clip: (0, 9, 0, 16)\n",
      "tile in shape: torch.Size([10, 17])\n",
      "padding for tile: (1, 0, 1, 0)\n",
      "tile padded shape: torch.Size([11, 18])\n",
      "out_custom shape: torch.Size([1, 1, 9, 15])\n",
      "target indices: slice(0, 9, None), slice(0, 15, None)\n",
      "target shape: torch.Size([9, 15])\n",
      "Tile: 1 / 15\n",
      "idx_out: (0, 8, 15, 29)\n",
      "idx_in: (-1, 9, 14, 31)\n",
      "idx_in_clip: (0, 9, 14, 31)\n",
      "tile in shape: torch.Size([10, 18])\n",
      "padding for tile: (1, 0, 0, 0)\n",
      "tile padded shape: torch.Size([11, 18])\n",
      "out_custom shape: torch.Size([1, 1, 9, 15])\n",
      "target indices: slice(0, 9, None), slice(15, 30, None)\n",
      "target shape: torch.Size([9, 15])\n",
      "Tile: 2 / 15\n",
      "idx_out: (0, 8, 30, 33)\n",
      "idx_in: (-1, 9, 29, 35)\n",
      "idx_in_clip: (0, 9, 29, 33)\n",
      "tile in shape: torch.Size([10, 5])\n",
      "padding for tile: (1, 0, 0, 2)\n",
      "tile padded shape: torch.Size([11, 7])\n",
      "out_custom shape: torch.Size([1, 1, 9, 4])\n",
      "target indices: slice(0, 9, None), slice(30, 34, None)\n",
      "target shape: torch.Size([9, 4])\n",
      "Tile: 3 / 15\n",
      "idx_out: (9, 17, 0, 14)\n",
      "idx_in: (8, 18, -1, 16)\n",
      "idx_in_clip: (8, 18, 0, 16)\n",
      "tile in shape: torch.Size([11, 17])\n",
      "padding for tile: (0, 0, 1, 0)\n",
      "tile padded shape: torch.Size([11, 18])\n",
      "out_custom shape: torch.Size([1, 1, 9, 15])\n",
      "target indices: slice(9, 18, None), slice(0, 15, None)\n",
      "target shape: torch.Size([9, 15])\n",
      "Tile: 4 / 15\n",
      "idx_out: (9, 17, 15, 29)\n",
      "idx_in: (8, 18, 14, 31)\n",
      "idx_in_clip: (8, 18, 14, 31)\n",
      "tile in shape: torch.Size([11, 18])\n",
      "padding for tile: (0, 0, 0, 0)\n",
      "tile padded shape: torch.Size([11, 18])\n",
      "out_custom shape: torch.Size([1, 1, 9, 15])\n",
      "target indices: slice(9, 18, None), slice(15, 30, None)\n",
      "target shape: torch.Size([9, 15])\n",
      "Tile: 5 / 15\n",
      "idx_out: (9, 17, 30, 33)\n",
      "idx_in: (8, 18, 29, 35)\n",
      "idx_in_clip: (8, 18, 29, 33)\n",
      "tile in shape: torch.Size([11, 5])\n",
      "padding for tile: (0, 0, 0, 2)\n",
      "tile padded shape: torch.Size([11, 7])\n",
      "out_custom shape: torch.Size([1, 1, 9, 4])\n",
      "target indices: slice(9, 18, None), slice(30, 34, None)\n",
      "target shape: torch.Size([9, 4])\n",
      "Tile: 6 / 15\n",
      "idx_out: (18, 26, 0, 14)\n",
      "idx_in: (17, 27, -1, 16)\n",
      "idx_in_clip: (17, 27, 0, 16)\n",
      "tile in shape: torch.Size([11, 17])\n",
      "padding for tile: (0, 0, 1, 0)\n",
      "tile padded shape: torch.Size([11, 18])\n",
      "out_custom shape: torch.Size([1, 1, 9, 15])\n",
      "target indices: slice(18, 27, None), slice(0, 15, None)\n",
      "target shape: torch.Size([9, 15])\n",
      "Tile: 7 / 15\n",
      "idx_out: (18, 26, 15, 29)\n",
      "idx_in: (17, 27, 14, 31)\n",
      "idx_in_clip: (17, 27, 14, 31)\n",
      "tile in shape: torch.Size([11, 18])\n",
      "padding for tile: (0, 0, 0, 0)\n",
      "tile padded shape: torch.Size([11, 18])\n",
      "out_custom shape: torch.Size([1, 1, 9, 15])\n",
      "target indices: slice(18, 27, None), slice(15, 30, None)\n",
      "target shape: torch.Size([9, 15])\n",
      "Tile: 8 / 15\n",
      "idx_out: (18, 26, 30, 33)\n",
      "idx_in: (17, 27, 29, 35)\n",
      "idx_in_clip: (17, 27, 29, 33)\n",
      "tile in shape: torch.Size([11, 5])\n",
      "padding for tile: (0, 0, 0, 2)\n",
      "tile padded shape: torch.Size([11, 7])\n",
      "out_custom shape: torch.Size([1, 1, 9, 4])\n",
      "target indices: slice(18, 27, None), slice(30, 34, None)\n",
      "target shape: torch.Size([9, 4])\n",
      "Tile: 9 / 15\n",
      "idx_out: (27, 35, 0, 14)\n",
      "idx_in: (26, 36, -1, 16)\n",
      "idx_in_clip: (26, 36, 0, 16)\n",
      "tile in shape: torch.Size([11, 17])\n",
      "padding for tile: (0, 0, 1, 0)\n",
      "tile padded shape: torch.Size([11, 18])\n",
      "out_custom shape: torch.Size([1, 1, 9, 15])\n",
      "target indices: slice(27, 36, None), slice(0, 15, None)\n",
      "target shape: torch.Size([9, 15])\n",
      "Tile: 10 / 15\n",
      "idx_out: (27, 35, 15, 29)\n",
      "idx_in: (26, 36, 14, 31)\n",
      "idx_in_clip: (26, 36, 14, 31)\n",
      "tile in shape: torch.Size([11, 18])\n",
      "padding for tile: (0, 0, 0, 0)\n",
      "tile padded shape: torch.Size([11, 18])\n",
      "out_custom shape: torch.Size([1, 1, 9, 15])\n",
      "target indices: slice(27, 36, None), slice(15, 30, None)\n",
      "target shape: torch.Size([9, 15])\n",
      "Tile: 11 / 15\n",
      "idx_out: (27, 35, 30, 33)\n",
      "idx_in: (26, 36, 29, 35)\n",
      "idx_in_clip: (26, 36, 29, 33)\n",
      "tile in shape: torch.Size([11, 5])\n",
      "padding for tile: (0, 0, 0, 2)\n",
      "tile padded shape: torch.Size([11, 7])\n",
      "out_custom shape: torch.Size([1, 1, 9, 4])\n",
      "target indices: slice(27, 36, None), slice(30, 34, None)\n",
      "target shape: torch.Size([9, 4])\n",
      "Tile: 12 / 15\n",
      "idx_out: (36, 40, 0, 14)\n",
      "idx_in: (35, 41, -1, 16)\n",
      "idx_in_clip: (35, 40, 0, 16)\n",
      "tile in shape: torch.Size([6, 17])\n",
      "padding for tile: (0, 1, 1, 0)\n",
      "tile padded shape: torch.Size([7, 18])\n",
      "out_custom shape: torch.Size([1, 1, 5, 15])\n",
      "target indices: slice(36, 41, None), slice(0, 15, None)\n",
      "target shape: torch.Size([5, 15])\n",
      "Tile: 13 / 15\n",
      "idx_out: (36, 40, 15, 29)\n",
      "idx_in: (35, 41, 14, 31)\n",
      "idx_in_clip: (35, 40, 14, 31)\n",
      "tile in shape: torch.Size([6, 18])\n",
      "padding for tile: (0, 1, 0, 0)\n",
      "tile padded shape: torch.Size([7, 18])\n",
      "out_custom shape: torch.Size([1, 1, 5, 15])\n",
      "target indices: slice(36, 41, None), slice(15, 30, None)\n",
      "target shape: torch.Size([5, 15])\n",
      "Tile: 14 / 15\n",
      "idx_out: (36, 40, 30, 33)\n",
      "idx_in: (35, 41, 29, 35)\n",
      "idx_in_clip: (35, 40, 29, 33)\n",
      "tile in shape: torch.Size([6, 5])\n",
      "padding for tile: (0, 1, 0, 2)\n",
      "tile padded shape: torch.Size([7, 7])\n",
      "out_custom shape: torch.Size([1, 1, 5, 4])\n",
      "target indices: slice(36, 41, None), slice(30, 34, None)\n",
      "target shape: torch.Size([5, 4])\n"
     ]
    }
   ],
   "source": [
    "print(f'kernel shape: {kernel.shape}')\n",
    "print(f'padding: {padding}')\n",
    "\n",
    "padding_val = tc.compute_padding_amount(\n",
    "    size_input=size_input,\n",
    "    size_kernel=size_kernel,\n",
    "    stride=stride,\n",
    "    dilation=dilation,\n",
    "    padding=padding,\n",
    ")\n",
    "print(f'padding_val: {padding_val}')\n",
    "\n",
    "shape_out = tc.conv2d_output_size(\n",
    "    size_input=size_input,\n",
    "    size_kernel=size_kernel,\n",
    "    padding=padding_val,\n",
    "    stride=stride,\n",
    "    dilation=dilation,\n",
    ")\n",
    "print(f'shape_out: {shape_out}')\n",
    "\n",
    "out = torch.empty(\n",
    "    size=shape_out,\n",
    "    dtype=torch.float32,\n",
    ")\n",
    "\n",
    "idx_tiles = [(ii, min(ii+size_tile[0], shape_out[0])-1, jj, min(jj+size_tile[1], shape_out[1])-1) for ii in range(0, shape_out[0], size_tile[0]) for jj in range(0, shape_out[1], size_tile[1])]\n",
    "\n",
    "# loop over the tiles\n",
    "for i_tile, (idx_out_top, idx_out_bottom, idx_out_left, idx_out_right) in enumerate(idx_tiles):\n",
    "    print(f\"Tile: {i_tile} / {len(idx_tiles)}\")\n",
    "    print(f\"idx_out: {idx_out_top, idx_out_bottom, idx_out_left, idx_out_right}\")\n",
    "    # get the input indices for the tile\n",
    "    idx_in_top, _, idx_in_left, _ = tc.get_receptive_field_indices(\n",
    "        indices=(idx_out_top, idx_out_left),\n",
    "        padding=padding_val,\n",
    "        size_kernel=size_kernel,\n",
    "        stride=stride,\n",
    "        dilation=dilation,\n",
    "    )\n",
    "    _, idx_in_bottom, _, idx_in_right = tc.get_receptive_field_indices(\n",
    "        indices=(idx_out_bottom, idx_out_right),\n",
    "        padding=padding_val,\n",
    "        size_kernel=size_kernel,\n",
    "        stride=stride,\n",
    "        dilation=dilation,\n",
    "    )\n",
    "    print(f\"idx_in: {idx_in_top, idx_in_bottom, idx_in_left, idx_in_right}\")\n",
    "\n",
    "    idx_in_top_clip, idx_in_bottom_clip = max(0, idx_in_top), min(size_input[0] - 1, idx_in_bottom)\n",
    "    idx_in_left_clip, idx_in_right_clip = max(0, idx_in_left), min(size_input[1] - 1, idx_in_right)\n",
    "    print(f\"idx_in_clip: {idx_in_top_clip, idx_in_bottom_clip, idx_in_left_clip, idx_in_right_clip}\")\n",
    "\n",
    "    # get the tile\n",
    "    tile = image[idx_in_top_clip:idx_in_bottom_clip + 1, idx_in_left_clip:idx_in_right_clip + 1]\n",
    "    print(f'tile in shape: {tile.shape}')\n",
    "    \n",
    "    # get the padding for the tile\n",
    "    padding_for_tile = tc.indices_to_padding(\n",
    "        indices=(idx_in_top, idx_in_bottom, idx_in_left, idx_in_right),\n",
    "        size_input_full=size_input,\n",
    "    )\n",
    "    print(f'padding for tile: {padding_for_tile}')\n",
    "\n",
    "    # pad the tile\n",
    "    tile_padded = tc.pad_tile(\n",
    "        tile=tile,\n",
    "        padding=padding_for_tile,\n",
    "    )\n",
    "    print(f'tile padded shape: {tile_padded.shape}')\n",
    "\n",
    "    # compute the output for the tile\n",
    "    out_custom = torch.nn.functional.conv2d(\n",
    "        input=tile_padded[None, None, :, :],\n",
    "        weight=kernel[None, None, :, :],\n",
    "        stride=stride,\n",
    "        padding='valid',\n",
    "        dilation=dilation,\n",
    "    )\n",
    "    print(f'out_custom shape: {out_custom.shape}')\n",
    "    print(f'target indices: {slice(idx_out_top, idx_out_bottom + 1)}, {slice(idx_out_left, idx_out_right + 1)}')\n",
    "    print(f'target shape: {out[slice(idx_out_top, idx_out_bottom + 1), slice(idx_out_left, idx_out_right + 1)].shape}')\n",
    "\n",
    "    # assign the output to the correct location\n",
    "    out[slice(idx_out_top, idx_out_bottom + 1), slice(idx_out_left, idx_out_right + 1)] = out_custom[0, 0, :, :]"
   ]
  },
  {
   "cell_type": "code",
   "execution_count": 21,
   "id": "e204b15b",
   "metadata": {},
   "outputs": [
    {
     "data": {
      "text/plain": [
       "True"
      ]
     },
     "execution_count": 21,
     "metadata": {},
     "output_type": "execute_result"
    }
   ],
   "source": [
    "torch.allclose(\n",
    "    out,\n",
    "    torch.nn.functional.conv2d(\n",
    "        input=image[None, None, :, :],\n",
    "        weight=kernel[None, None, :, :],\n",
    "        stride=stride,\n",
    "        padding=padding,\n",
    "        dilation=dilation,\n",
    "    )[0, 0, :, :],\n",
    ")"
   ]
  },
  {
   "cell_type": "code",
   "execution_count": null,
   "id": "9de916b9",
   "metadata": {},
   "outputs": [],
   "source": []
  },
  {
   "cell_type": "code",
   "execution_count": null,
   "id": "d83bcc87",
   "metadata": {},
   "outputs": [],
   "source": []
  },
  {
   "cell_type": "code",
   "execution_count": 22,
   "id": "0d1cd5de",
   "metadata": {},
   "outputs": [],
   "source": [
    "size_input = (50000, 100000)\n",
    "size_kernel = (11, 11)\n",
    "stride = (1, 1)\n",
    "dilation = (1, 1)\n",
    "\n",
    "# padding = (0, 6)\n",
    "padding = 'same'"
   ]
  },
  {
   "cell_type": "code",
   "execution_count": 23,
   "id": "ee318476",
   "metadata": {},
   "outputs": [],
   "source": [
    "image = torch.rand(size=size_input, dtype=torch.float32)\n",
    "kernel = torch.rand(size=size_kernel, dtype=torch.float32)"
   ]
  },
  {
   "cell_type": "code",
   "execution_count": 24,
   "id": "f8b39e88",
   "metadata": {},
   "outputs": [],
   "source": [
    "## try tiling with a small tile size\n",
    "\n",
    "size_tile = (1600, 1600)"
   ]
  },
  {
   "cell_type": "code",
   "execution_count": 25,
   "metadata": {},
   "outputs": [],
   "source": [
    "out = tc.conv2d_tiled(\n",
    "    arr=image,\n",
    "    kernel=kernel,\n",
    "    size_tile=size_tile,\n",
    "    stride=stride,\n",
    "    padding=padding,\n",
    "    dilation=dilation,\n",
    "    device_compute='cuda:0',\n",
    "    device_return='cpu',\n",
    "    dtype_compute=torch.float32,\n",
    ")"
   ]
  },
  {
   "cell_type": "code",
   "execution_count": null,
   "id": "791ed420",
   "metadata": {},
   "outputs": [],
   "source": []
  },
  {
   "cell_type": "code",
   "execution_count": null,
   "id": "dd44f102",
   "metadata": {},
   "outputs": [],
   "source": []
  },
  {
   "cell_type": "code",
   "execution_count": null,
   "id": "123380e5",
   "metadata": {},
   "outputs": [],
   "source": []
  },
  {
   "cell_type": "code",
   "execution_count": null,
   "id": "48fb2bf3",
   "metadata": {},
   "outputs": [],
   "source": [
    "conv2d_tiled_compiled = torch.jit.script(tc.conv2d_tiled)"
   ]
  },
  {
   "cell_type": "code",
   "execution_count": 35,
   "id": "0069a41d",
   "metadata": {},
   "outputs": [],
   "source": [
    "out = conv2d_tiled_compiled(\n",
    "    arr=image,\n",
    "    kernel=kernel,\n",
    "    size_tile=size_tile,\n",
    "    stride=stride,\n",
    "    padding=padding,\n",
    "    dilation=dilation,\n",
    "    device_compute='cuda:0',\n",
    "    device_return='cpu',\n",
    "    dtype_compute=torch.float32,\n",
    ")"
   ]
  },
  {
   "cell_type": "code",
   "execution_count": 29,
   "metadata": {},
   "outputs": [
    {
     "data": {
      "text/plain": [
       "True"
      ]
     },
     "execution_count": 29,
     "metadata": {},
     "output_type": "execute_result"
    }
   ],
   "source": [
    "torch.allclose(\n",
    "    out,\n",
    "    torch.nn.functional.conv2d(\n",
    "        input=image[None, None, :, :],\n",
    "        weight=kernel[None, None, :, :],\n",
    "        stride=stride,\n",
    "        padding=padding,\n",
    "        dilation=dilation,\n",
    "    )[0, 0, :, :],\n",
    ")"
   ]
  },
  {
   "cell_type": "code",
   "execution_count": null,
   "metadata": {},
   "outputs": [],
   "source": []
  },
  {
   "cell_type": "code",
   "execution_count": null,
   "metadata": {},
   "outputs": [],
   "source": []
  },
  {
   "cell_type": "code",
   "execution_count": 3,
   "metadata": {},
   "outputs": [],
   "source": [
    "import zarr"
   ]
  },
  {
   "cell_type": "code",
   "execution_count": 36,
   "id": "df82033b",
   "metadata": {},
   "outputs": [],
   "source": [
    "size_input = (50000, 100000)\n",
    "size_kernel = (11, 11)\n",
    "stride = (1, 1)\n",
    "dilation = (1, 1)\n",
    "\n",
    "# padding = (0, 6)\n",
    "padding = 'same'"
   ]
  },
  {
   "cell_type": "code",
   "execution_count": 37,
   "id": "cd45c211",
   "metadata": {},
   "outputs": [],
   "source": [
    "image = torch.rand(size=size_input, dtype=torch.float32)\n",
    "kernel = torch.rand(size=size_kernel, dtype=torch.float32)"
   ]
  },
  {
   "cell_type": "code",
   "execution_count": 38,
   "id": "540e2e90",
   "metadata": {},
   "outputs": [],
   "source": [
    "## try tiling with a small tile size\n",
    "\n",
    "size_tile = (2000, 2000)"
   ]
  },
  {
   "cell_type": "code",
   "execution_count": 39,
   "id": "5aa1b2bb",
   "metadata": {},
   "outputs": [],
   "source": [
    "zarr_path_input = '/media/rich/bigSSD/tmp/image.zarr'\n",
    "store = zarr.storage.LocalStore(zarr_path_input)\n",
    "\n",
    "zarr_input = zarr.create_array(\n",
    "    shape=size_input,\n",
    "    chunks=size_tile,\n",
    "    dtype=tc.torch_dtype_to_numpy_dtype(image.dtype),\n",
    "    store=store,\n",
    "    overwrite=True,\n",
    "    order='C',\n",
    ")\n",
    "zarr_input[:] = image.numpy()"
   ]
  },
  {
   "cell_type": "code",
   "execution_count": 40,
   "id": "004f6304",
   "metadata": {},
   "outputs": [],
   "source": [
    "shape_output = tc.conv2d_output_size(\n",
    "        size_input=size_input,\n",
    "        size_kernel=size_kernel,\n",
    "        padding=tc.compute_padding_amount(\n",
    "            size_input=size_input,\n",
    "            size_kernel=size_kernel,\n",
    "            stride=stride,\n",
    "            dilation=dilation,\n",
    "            padding=padding,\n",
    "        ),\n",
    "        stride=stride,\n",
    "        dilation=dilation,\n",
    "    )\n",
    "\n",
    "zarr_path_input = '/media/rich/bigSSD/tmp/output.zarr'\n",
    "store = zarr.storage.LocalStore(zarr_path_input)\n",
    "\n",
    "zarr_output = zarr.create_array(\n",
    "    store=store,\n",
    "    shape=shape_output,\n",
    "    # shards=(1000, 1000),\n",
    "    chunks=size_tile,\n",
    "    dtype=np.float32,\n",
    "    overwrite=True,\n",
    "    order='C',\n",
    ")"
   ]
  },
  {
   "cell_type": "code",
   "execution_count": null,
   "id": "58389d72",
   "metadata": {},
   "outputs": [
    {
     "data": {
      "application/vnd.jupyter.widget-view+json": {
       "model_id": "60bcf27c0eb64a7f8f8878badf394ff8",
       "version_major": 2,
       "version_minor": 0
      },
      "text/plain": [
       "Processing tiles:   0%|          | 0/1250 [00:00<?, ?it/s]"
      ]
     },
     "metadata": {},
     "output_type": "display_data"
    }
   ],
   "source": [
    "out = tc.conv2d_tiled(\n",
    "    input=zarr_input,\n",
    "    kernel=kernel,\n",
    "    size_tile=size_tile,\n",
    "    stride=stride,\n",
    "    padding=padding,\n",
    "    dilation=dilation,\n",
    "    output=zarr_output,\n",
    "    device_compute='cpu',\n",
    "    device_return='cpu',\n",
    "    dtype_compute=torch.float32,\n",
    "    dtype_return=None,\n",
    "    # kind_return='zarr',\n",
    "    verbose=True,\n",
    ")"
   ]
  },
  {
   "cell_type": "code",
   "execution_count": null,
   "id": "bf21ef5b",
   "metadata": {},
   "outputs": [],
   "source": [
    "zarr_array = zarr.create_array(\n",
    "    store=store,\n",
    "    shape=(5000, 10000),\n",
    "    # shards=(1000, 1000),\n",
    "    chunks=(1000, 1000),\n",
    "    dtype=np.float32,\n",
    ")"
   ]
  },
  {
   "cell_type": "code",
   "execution_count": null,
   "id": "3532d0bc",
   "metadata": {},
   "outputs": [],
   "source": [
    "zarr_array[:] = image.numpy()"
   ]
  },
  {
   "cell_type": "code",
   "execution_count": 103,
   "id": "6c335de5",
   "metadata": {},
   "outputs": [],
   "source": [
    "store = zarr.storage.LocalStore(zarr_path)\n",
    "\n",
    "zarr_array = zarr.create_array(\n",
    "    store=store,\n",
    "    shape=out.shape,\n",
    "    chunks=(1000, 1000),\n",
    "    dtype=np.float32,\n",
    "    overwrite=True,\n",
    ")"
   ]
  },
  {
   "cell_type": "code",
   "execution_count": 106,
   "id": "34dc759f",
   "metadata": {},
   "outputs": [],
   "source": [
    "zarr_array[:] = out.numpy()"
   ]
  }
 ],
 "metadata": {
  "kernelspec": {
   "display_name": "Python 3",
   "language": "python",
   "name": "python3"
  },
  "language_info": {
   "codemirror_mode": {
    "name": "ipython",
    "version": 3
   },
   "file_extension": ".py",
   "mimetype": "text/x-python",
   "name": "python",
   "nbconvert_exporter": "python",
   "pygments_lexer": "ipython3",
   "version": "3.11.10"
  }
 },
 "nbformat": 4,
 "nbformat_minor": 5
}
